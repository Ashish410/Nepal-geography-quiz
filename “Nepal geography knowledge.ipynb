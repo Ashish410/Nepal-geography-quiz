{
 "cells": [
  {
   "cell_type": "code",
   "execution_count": 1,
   "id": "6e6bff0e-44dd-4786-a700-00cb914169db",
   "metadata": {},
   "outputs": [],
   "source": [
    "#create a function to run the quiz logic\n",
    "questions = [ \n",
    "    {\n",
    "        \"question\": \"what is the  capital city of Nepal?\",\n",
    "        \"options\": [\"A. Kathmandu\", \"B. Bhaktapur \", \"C. Lalitpur\" \"D. Gorkha\"],\n",
    "        \"answer\": \"A\"\n",
    "    },\n",
    "    {\n",
    "        \"question\": \"What is the highest Mountain of Nepal?\",\n",
    "        \"options\": [ \"A. Mount Kanchenjunga\", \"B. Mount Annapurna\", \"C. Mount Everest\", \"D. Mount Dhaulagiri\"],\n",
    "        \"answer\": \"C\"\n",
    "    },\n",
    "    {\n",
    "        \"question\": \"Which river is the longest in Nepal?\",\n",
    "        \"options\": [\"A. Gandaki\", \"B. Bagmati\", \"C. Karnali\", \"D. Koshi\"],\n",
    "        \"answer\": \"C\"\n",
    "    },\n",
    "    {\n",
    "        \"question\": \"Which city is known as the gateway of Nepal?\",\n",
    "        \"options\": [ \"A. Namche Bazaar\", \"B. Lukla\", \"C. Pokhara\", \"D. Kathmandu\"],\n",
    "        \"answer\": \"B\"\n",
    "    },\n",
    "    {\n",
    "    \n",
    "        \"question\": \"What is the name of the flat southern region of Nepal?\",\n",
    "        \"options\": [ \"A. Hill region\", \"B. Mid-westen region\", \"C. Terai Region\", \"D. Mountain region\"],\n",
    "        \"answer\": \"C\"\n",
    "    },\n",
    "    {\n",
    "        \"question\": \"Which Lake is the second largest in Nepal and a popular tourist destination?\",\n",
    "        \"options\": [ \"A. Phewa Lake\", \"B. Begnas Lake\", \"C. Tilicho Lake\", \"D. Rara Lake\"],\n",
    "        \"answer\": \"A\"\n",
    "    },\n",
    "    {\n",
    "        \"question\": \"Which national park in Nepal is a UNESCO world heritage site and home to Bengal tigers?\",\n",
    "        \"options\": [ \"A. Langtang National Park\", \"B. Chitwan National Park\", \"C. Rara National Park\", \"C. Sagarmatha National Park\"],\n",
    "        \"answer\": \"B\"\n",
    "    },\n",
    "    {\n",
    "        \"question\": \"Which mountain range froms the northern border of Nepal?\",\n",
    "        \"options\": [ \"A. Himalayas\", \"B. Alps\", \"C. Rockies\", \"D. Andes\"],\n",
    "        \"answer\": \"A\"\n",
    "\n",
    "    },\n",
    "    {\n",
    "        \"question\": \"Which valley is considered the cultural and historical heart of Nepal?\",\n",
    "        \"options\": [ \"A. Solukhumbu Valley\", \"B. Pokhara Valley\", \"C. Kathmandu Valley\", \"D. Terai Valley\"],\n",
    "        \"answer\": \"C\"\n",
    "\n",
    "    },\n",
    "    {\n",
    "        \"question\": \"Which region of Nepal is most prone to landslide and eroison due to steep terrain?\",\n",
    "        \"options\": [ \"A. Mountain Region\", \"B. Hill Region\", \"C. Terai Region\", \"D. Mid-western Region\"],\n",
    "        \"answer\": \"B\"\n",
    "\n",
    "    },\n",
    "    {\n",
    "        \"question\": \"Which river basin is crucial for hydroelectric power generation in Nepal?\",\n",
    "        \"options\": [ \"A. Bagmati Basin\", \"B. Karnali Basin\", \"C. Gandaki Basin\", \"D. Koshi Basin\"],\n",
    "        \"answer\": \"C\"\n",
    "\n",
    "    }\n",
    "]\n"
   ]
  },
  {
   "cell_type": "code",
   "execution_count": 9,
   "id": "b98ebc57-6f27-4a80-a070-55b5ac8dc775",
   "metadata": {},
   "outputs": [
    {
     "name": "stdout",
     "output_type": "stream",
     "text": [
      "what is the  capital city of Nepal?\n",
      "A. Kathmandu\n",
      "B. Bhaktapur \n",
      "C. LalitpurD. Gorkha\n"
     ]
    },
    {
     "name": "stdin",
     "output_type": "stream",
     "text": [
      "your answer(A/B/C/D):  A\n"
     ]
    },
    {
     "name": "stdout",
     "output_type": "stream",
     "text": [
      "✅ Correct!\n",
      "\n",
      "What is the highest Mountain of Nepal?\n",
      "A. Mount Kanchenjunga\n",
      "B. Mount Annapurna\n",
      "C. Mount Everest\n",
      "D. Mount Dhaulagiri\n"
     ]
    },
    {
     "name": "stdin",
     "output_type": "stream",
     "text": [
      "your answer(A/B/C/D):  A\n"
     ]
    },
    {
     "name": "stdout",
     "output_type": "stream",
     "text": [
      "❎  wrong! The correct answer was C\n",
      "\n",
      "Which river is the longest in Nepal?\n",
      "A. Gandaki\n",
      "B. Bagmati\n",
      "C. Karnali\n",
      "D. Koshi\n"
     ]
    },
    {
     "name": "stdin",
     "output_type": "stream",
     "text": [
      "your answer(A/B/C/D):  A\n"
     ]
    },
    {
     "name": "stdout",
     "output_type": "stream",
     "text": [
      "❎  wrong! The correct answer was C\n",
      "\n",
      "Which city is known as the gateway of Nepal?\n",
      "A. Namche Bazaar\n",
      "B. Lukla\n",
      "C. Pokhara\n",
      "D. Kathmandu\n"
     ]
    },
    {
     "name": "stdin",
     "output_type": "stream",
     "text": [
      "your answer(A/B/C/D):  A\n"
     ]
    },
    {
     "name": "stdout",
     "output_type": "stream",
     "text": [
      "❎  wrong! The correct answer was B\n",
      "\n",
      "What is the name of the flat southern region of Nepal?\n",
      "A. Hill region\n",
      "B. Mid-westen region\n",
      "C. Terai Region\n",
      "D. Mountain region\n"
     ]
    },
    {
     "name": "stdin",
     "output_type": "stream",
     "text": [
      "your answer(A/B/C/D):  A\n"
     ]
    },
    {
     "name": "stdout",
     "output_type": "stream",
     "text": [
      "❎  wrong! The correct answer was C\n",
      "\n",
      "Which Lake is the second largest in Nepal and a popular tourist destination?\n",
      "A. Phewa Lake\n",
      "B. Begnas Lake\n",
      "C. Tilicho Lake\n",
      "D. Rara Lake\n"
     ]
    },
    {
     "name": "stdin",
     "output_type": "stream",
     "text": [
      "your answer(A/B/C/D):  A\n"
     ]
    },
    {
     "name": "stdout",
     "output_type": "stream",
     "text": [
      "✅ Correct!\n",
      "\n",
      "Which national park in Nepal is a UNESCO world heritage site and home to Bengal tigers?\n",
      "A. Langtang National Park\n",
      "B. Chitwan National Park\n",
      "C. Rara National Park\n",
      "C. Sagarmatha National Park\n"
     ]
    },
    {
     "name": "stdin",
     "output_type": "stream",
     "text": [
      "your answer(A/B/C/D):  A\n"
     ]
    },
    {
     "name": "stdout",
     "output_type": "stream",
     "text": [
      "❎  wrong! The correct answer was B\n",
      "\n",
      "Which mountain range froms the northern border of Nepal?\n",
      "A. Himalayas\n",
      "B. Alps\n",
      "C. Rockies\n",
      "D. Andes\n"
     ]
    },
    {
     "name": "stdin",
     "output_type": "stream",
     "text": [
      "your answer(A/B/C/D):  A\n"
     ]
    },
    {
     "name": "stdout",
     "output_type": "stream",
     "text": [
      "✅ Correct!\n",
      "\n",
      "Which valley is considered the cultural and historical heart of Nepal?\n",
      "A. Solukhumbu Valley\n",
      "B. Pokhara Valley\n",
      "C. Kathmandu Valley\n",
      "D. Terai Valley\n"
     ]
    },
    {
     "name": "stdin",
     "output_type": "stream",
     "text": [
      "your answer(A/B/C/D):  A\n"
     ]
    },
    {
     "name": "stdout",
     "output_type": "stream",
     "text": [
      "❎  wrong! The correct answer was C\n",
      "\n",
      "Which region of Nepal is most prone to landslide and eroison due to steep terrain?\n",
      "A. Mountain Region\n",
      "B. Hill Region\n",
      "C. Terai Region\n",
      "D. Mid-western Region\n"
     ]
    },
    {
     "name": "stdin",
     "output_type": "stream",
     "text": [
      "your answer(A/B/C/D):  A\n"
     ]
    },
    {
     "name": "stdout",
     "output_type": "stream",
     "text": [
      "❎  wrong! The correct answer was B\n",
      "\n",
      "Which river basin is crucial for hydroelectric power generation in Nepal?\n",
      "A. Bagmati Basin\n",
      "B. Karnali Basin\n",
      "C. Gandaki Basin\n",
      "D. Koshi Basin\n"
     ]
    },
    {
     "name": "stdin",
     "output_type": "stream",
     "text": [
      "your answer(A/B/C/D):  A\n"
     ]
    },
    {
     "name": "stdout",
     "output_type": "stream",
     "text": [
      "❎  wrong! The correct answer was C\n",
      "\n",
      " your final score is: 3/11\n"
     ]
    }
   ],
   "source": [
    "score = 0 \n",
    "for q in questions:\n",
    "    print(q[\"question\"])\n",
    "    for option in q[\"options\"]:\n",
    "        print(option)\n",
    "    user_name = input(\"your answer(A/B/C/D): \").upper()\n",
    "    if user_name == q[\"answer\"]:\n",
    "        print(\"✅ Correct!\\n\")\n",
    "        score += 1\n",
    "    else:\n",
    "        print(f\"❎  wrong! The correct answer was {q['answer']}\\n\")\n",
    "print(f\" your final score is: {score}/{len(questions)}\")"
   ]
  },
  {
   "cell_type": "code",
   "execution_count": 12,
   "id": "46a4fdd4-eab2-468f-aa40-ce9dc1bab6cc",
   "metadata": {},
   "outputs": [],
   "source": [
    "import datetime\n",
    "def save_score(username, score, total_questions):\n",
    "    timestamp = datetime.datetime.now().strftime(\"%Y-%m-%d %H: %M: %S\")\n",
    "    with open(\"quiz_scores.txt\", \"a\") as file:\n",
    "        file.write(f\"{timestamp} | {username} | Score: {score}/{total_questions}\\n\")\n",
    "        "
   ]
  },
  {
   "cell_type": "code",
   "execution_count": 13,
   "id": "46581ba8-4a4a-4d16-829d-d94eb0c2fc2f",
   "metadata": {},
   "outputs": [
    {
     "name": "stdin",
     "output_type": "stream",
     "text": [
      "Enter your name:  AShihs\n"
     ]
    },
    {
     "name": "stdout",
     "output_type": "stream",
     "text": [
      "✅ your score has been saved!\n"
     ]
    }
   ],
   "source": [
    "username = input(\"Enter your name: \")\n",
    "save_score(username, score, len(questions))\n",
    "print(\"✅ your score has been saved!\")\n"
   ]
  },
  {
   "cell_type": "code",
   "execution_count": null,
   "id": "2f7a4200-a9fb-4a2f-b556-815172f8c11d",
   "metadata": {},
   "outputs": [],
   "source": []
  }
 ],
 "metadata": {
  "kernelspec": {
   "display_name": "Python 3 (ipykernel)",
   "language": "python",
   "name": "python3"
  },
  "language_info": {
   "codemirror_mode": {
    "name": "ipython",
    "version": 3
   },
   "file_extension": ".py",
   "mimetype": "text/x-python",
   "name": "python",
   "nbconvert_exporter": "python",
   "pygments_lexer": "ipython3",
   "version": "3.13.5"
  }
 },
 "nbformat": 4,
 "nbformat_minor": 5
}
